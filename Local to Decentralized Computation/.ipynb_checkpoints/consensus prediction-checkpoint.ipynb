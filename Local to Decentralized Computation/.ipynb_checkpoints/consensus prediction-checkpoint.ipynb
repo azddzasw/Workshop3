{
 "cells": [
  {
   "cell_type": "code",
   "execution_count": 1,
   "id": "c5bc1c52-eadb-4cbf-b5f6-8e5731939b5a",
   "metadata": {
    "tags": []
   },
   "outputs": [
    {
     "ename": "ModuleNotFoundError",
     "evalue": "No module named 'requests'",
     "output_type": "error",
     "traceback": [
      "\u001b[0;31m---------------------------------------------------------------------------\u001b[0m",
      "\u001b[0;31mModuleNotFoundError\u001b[0m                       Traceback (most recent call last)",
      "\u001b[1;32m/Users/azddza/Workshop3/Local to Decentralized Computation/consensus prediction.ipynb 单元格 1\u001b[0m line \u001b[0;36m1\n\u001b[0;32m----> <a href='vscode-notebook-cell:/Users/azddza/Workshop3/Local%20to%20Decentralized%20Computation/consensus%20prediction.ipynb#W0sZmlsZQ%3D%3D?line=0'>1</a>\u001b[0m \u001b[39mimport\u001b[39;00m \u001b[39mrequests\u001b[39;00m\n\u001b[1;32m      <a href='vscode-notebook-cell:/Users/azddza/Workshop3/Local%20to%20Decentralized%20Computation/consensus%20prediction.ipynb#W0sZmlsZQ%3D%3D?line=2'>3</a>\u001b[0m \u001b[39m# API URL\u001b[39;00m\n\u001b[1;32m      <a href='vscode-notebook-cell:/Users/azddza/Workshop3/Local%20to%20Decentralized%20Computation/consensus%20prediction.ipynb#W0sZmlsZQ%3D%3D?line=3'>4</a>\u001b[0m api_url \u001b[39m=\u001b[39m \u001b[39m'\u001b[39m\u001b[39mhttps://4375-89-30-29-68.ngrok-free.app/predict\u001b[39m\u001b[39m'\u001b[39m\n",
      "\u001b[0;31mModuleNotFoundError\u001b[0m: No module named 'requests'"
     ]
    }
   ],
   "source": [
    "import requests\n",
    "\n",
    "# API URL\n",
    "api_url = 'https://4375-89-30-29-68.ngrok-free.app/predict'\n",
    "\n",
    "# demo-data\n",
    "input_data = {\n",
    "    'radius_mean': 1,\n",
    "    'texture_mean': 2,\n",
    "    'perimeter_mean': 2,\n",
    "    'area_mean':2,\n",
    "    'smoothness_mean':2,\n",
    "}\n",
    "\n",
    "response = requests.get(api_url, params=input_data)\n",
    "\n",
    "if response.status_code == 200:\n",
    "    result = response.json()\n",
    "    prediction = bool(result['prediction'])\n",
    "    print('result:', result)\n",
    "else:\n",
    "    print('failed:', response.text)\n"
   ]
  },
  {
   "cell_type": "markdown",
   "id": "dcb5e2b5-54b3-469d-be5f-df578e71d87f",
   "metadata": {
    "tags": []
   },
   "source": [
    "# *Introducing Consensus with Slashing Mechanism*\n"
   ]
  },
  {
   "cell_type": "code",
   "execution_count": 8,
   "id": "c0b2014f-bf79-4a30-be10-8198172e1029",
   "metadata": {},
   "outputs": [],
   "source": [
    "import json\n",
    "\n",
    "# read model info\n",
    "def read_model_info():\n",
    "    with open('model_info.json', 'r') as file:\n",
    "        return json.load(file)\n",
    "\n",
    "# write model info\n",
    "def write_model_info(data):\n",
    "    with open('model_info.json', 'w') as file:\n",
    "        json.dump(data, file, indent=4)\n",
    "\n",
    "# model register\n",
    "def register_model(model_id, deposit):\n",
    "    model_info = read_model_info()\n",
    "    model_info['models'].append({\n",
    "        'id': model_id,\n",
    "        'deposit': deposit,\n",
    "        'accuracy': 0.0,\n",
    "        'weight': 1.0\n",
    "    })\n",
    "    write_model_info(model_info)\n",
    "\n",
    "# update model info\n",
    "def update_model_performance(model_id, accuracy):\n",
    "    model_info = read_model_info()\n",
    "    for model in model_info['models']:\n",
    "        if model['id'] == model_id:\n",
    "            model['accuracy'] = accuracy\n",
    "            # update the weight\n",
    "            model['weight'] = accuracy\n",
    "    write_model_info(model_info)\n",
    "\n",
    "# slash\n",
    "def apply_slashing(model_id, penalty):\n",
    "    model_info = read_model_info()\n",
    "    for model in model_info['models']:\n",
    "        if model['id'] == model_id:\n",
    "            model['deposit'] -= penalty\n",
    "    write_model_info(model_info)\n",
    "\n",
    "\n",
    "# demo_register\n",
    "register_model('model_1', 1000)\n",
    "register_model('model_2', 1000)\n",
    "\n",
    "#update model\n",
    "update_model_performance('model_1', 0.75)\n",
    "update_model_performance('model_2', 0.85)\n",
    "\n",
    "# slash\n",
    "apply_slashing('model_1', 50)\n",
    "\n"
   ]
  },
  {
   "cell_type": "code",
   "execution_count": 6,
   "id": "3c6d77fe-1850-4b56-9b7e-32c6cb4f53c2",
   "metadata": {
    "tags": []
   },
   "outputs": [
    {
     "name": "stdout",
     "output_type": "stream",
     "text": [
      "Consensus prediction: True\n"
     ]
    }
   ],
   "source": [
    "# predict\n",
    "def predict(model_id, input_data,api):\n",
    "    response = requests.get(api, params=input_data)\n",
    "    if response.status_code == 200:\n",
    "        result = response.json()\n",
    "        prediction = bool(result['prediction'])\n",
    "    else:\n",
    "        print('failed:', response.text)\n",
    "    return prediction\n",
    "\n",
    "# consensus\n",
    "def consensus(input_data, api):\n",
    "    model_info = read_model_info()\n",
    "    predictions = [predict(model['id'], input_data, api) for model in model_info['models']]\n",
    "    if predictions:\n",
    "        result = max(set(predictions), key=predictions.count)\n",
    "        return result\n",
    "    else:\n",
    "        return None\n",
    "\n",
    "# demo_consensus\n",
    "input_data = {}  \n",
    "result = consensus(input_data)\n",
    "print(\"Consensus prediction:\", result)\n"
   ]
  }
 ],
 "metadata": {
  "kernelspec": {
   "display_name": "Python 3 (ipykernel)",
   "language": "python",
   "name": "python3"
  },
  "language_info": {
   "codemirror_mode": {
    "name": "ipython",
    "version": 3
   },
   "file_extension": ".py",
   "mimetype": "text/x-python",
   "name": "python",
   "nbconvert_exporter": "python",
   "pygments_lexer": "ipython3",
   "version": "3.9.6"
  }
 },
 "nbformat": 4,
 "nbformat_minor": 5
}
