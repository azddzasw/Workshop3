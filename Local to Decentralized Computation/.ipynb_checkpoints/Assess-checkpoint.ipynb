{
 "cells": [
  {
   "cell_type": "code",
   "execution_count": 14,
   "id": "c5bc1c52-eadb-4cbf-b5f6-8e5731939b5a",
   "metadata": {
    "tags": []
   },
   "outputs": [
    {
     "name": "stdout",
     "output_type": "stream",
     "text": [
      "预测结果: {'class_name': 'benign', 'prediction': 1}\n"
     ]
    }
   ],
   "source": [
    "import requests\n",
    "\n",
    "# API URL\n",
    "api_url = 'https://5f5e-89-30-29-68.ngrok-free.app/predict'\n",
    "\n",
    "# demo-data\n",
    "input_data = {\n",
    "    'radius_mean': 1,\n",
    "    'texture_mean': 2,\n",
    "    'perimeter_mean': 2,\n",
    "    'area_mean':2,\n",
    "    'smoothness_mean':2,\n",
    "}\n",
    "\n",
    "response = requests.get(api_url, params=input_data)\n",
    "\n",
    "if response.status_code == 200:\n",
    "    result = response.json()\n",
    "    prediction = result['prediction']\n",
    "    print('result:', result)\n",
    "else:\n",
    "    print('failed:', response.text)\n"
   ]
  },
  {
   "cell_type": "code",
   "execution_count": 8,
   "id": "6e965d8a-4f08-454c-beb2-e352e7d2f463",
   "metadata": {
    "tags": []
   },
   "outputs": [
    {
     "data": {
      "text/plain": [
       "{'radius_mea': 1,\n",
       " 'texture_mean': 2,\n",
       " 'perimeter_mean': 2,\n",
       " 'area_mean': 2,\n",
       " 'smoothness_mean': 2}"
      ]
     },
     "execution_count": 8,
     "metadata": {},
     "output_type": "execute_result"
    }
   ],
   "source": [
    "input_data"
   ]
  },
  {
   "cell_type": "code",
   "execution_count": null,
   "id": "c0b2014f-bf79-4a30-be10-8198172e1029",
   "metadata": {},
   "outputs": [],
   "source": []
  }
 ],
 "metadata": {
  "kernelspec": {
   "display_name": "Python 3 (ipykernel)",
   "language": "python",
   "name": "python3"
  },
  "language_info": {
   "codemirror_mode": {
    "name": "ipython",
    "version": 3
   },
   "file_extension": ".py",
   "mimetype": "text/x-python",
   "name": "python",
   "nbconvert_exporter": "python",
   "pygments_lexer": "ipython3",
   "version": "3.11.4"
  }
 },
 "nbformat": 4,
 "nbformat_minor": 5
}
