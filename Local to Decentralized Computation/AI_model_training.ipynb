{
 "cells": [
  {
   "cell_type": "code",
   "execution_count": 1,
   "metadata": {
    "id": "nLKbmDozDzW4",
    "tags": []
   },
   "outputs": [
    {
     "name": "stdout",
     "output_type": "stream",
     "text": [
      "x shape: (569, 5)\n",
      "y shape: (569,)\n"
     ]
    }
   ],
   "source": [
    "import pandas as pd\n",
    "from sklearn.datasets import load_breast_cancer\n",
    "\n",
    "# import data\n",
    "data = load_breast_cancer()\n",
    "\n",
    "X = data.data[:, :5]\n",
    "\n",
    "y = data.target\n",
    "\n",
    "print(\"x shape:\", X.shape)\n",
    "print(\"y shape:\", y.shape)"
   ]
  },
  {
   "cell_type": "code",
   "execution_count": 2,
   "metadata": {
    "id": "tzzYFYINEOHO",
    "tags": []
   },
   "outputs": [
    {
     "name": "stdout",
     "output_type": "stream",
     "text": [
      "accuracy: 0.8947368421052632\n"
     ]
    }
   ],
   "source": [
    "from sklearn.tree import DecisionTreeClassifier\n",
    "from sklearn.model_selection import train_test_split\n",
    "from sklearn.metrics import accuracy_score\n",
    "\n",
    "X_train, X_test, y_train, y_test = train_test_split(X, y, test_size=0.2, random_state=42)\n",
    "\n",
    "# mode\n",
    "clf = DecisionTreeClassifier()\n",
    "clf.fit(X_train, y_train)\n",
    "y_pred = clf.predict(X_test)\n",
    "\n",
    "# accuracy\n",
    "accuracy = accuracy_score(y_test, y_pred)\n",
    "print(\"accuracy:\", accuracy)"
   ]
  },
  {
   "cell_type": "code",
   "execution_count": 3,
   "metadata": {
    "id": "fnNLHjJMlEaB",
    "tags": []
   },
   "outputs": [
    {
     "name": "stdout",
     "output_type": "stream",
     "text": [
      "target num: 30\n",
      "target list:\n",
      "mean radius\n",
      "mean texture\n",
      "mean perimeter\n",
      "mean area\n",
      "mean smoothness\n",
      "mean compactness\n",
      "mean concavity\n",
      "mean concave points\n",
      "mean symmetry\n",
      "mean fractal dimension\n",
      "radius error\n",
      "texture error\n",
      "perimeter error\n",
      "area error\n",
      "smoothness error\n",
      "compactness error\n",
      "concavity error\n",
      "concave points error\n",
      "symmetry error\n",
      "fractal dimension error\n",
      "worst radius\n",
      "worst texture\n",
      "worst perimeter\n",
      "worst area\n",
      "worst smoothness\n",
      "worst compactness\n",
      "worst concavity\n",
      "worst concave points\n",
      "worst symmetry\n",
      "worst fractal dimension\n"
     ]
    }
   ],
   "source": [
    "data = load_breast_cancer()\n",
    "feature_names = data.feature_names\n",
    "\n",
    "print(\"target num:\", len(feature_names))\n",
    "print(\"target list:\")\n",
    "for feature in feature_names:\n",
    "    print(feature)"
   ]
  },
  {
   "cell_type": "code",
   "execution_count": 27,
   "metadata": {
    "id": "qio4dhF2jqdv",
    "tags": []
   },
   "outputs": [],
   "source": [
    "import pickle\n",
    "\n",
    "# save mode\n",
    "with open('model.pkl', 'wb') as f:\n",
    "    pickle.dump(clf, f)"
   ]
  },
  {
   "cell_type": "code",
   "execution_count": 23,
   "metadata": {
    "tags": []
   },
   "outputs": [
    {
     "name": "stdout",
     "output_type": "stream",
     "text": [
      "['malignant' 'benign']\n"
     ]
    }
   ],
   "source": [
    "target_names = data.target_names\n",
    "print(target_names)"
   ]
  }
 ],
 "metadata": {
  "colab": {
   "provenance": []
  },
  "kernelspec": {
   "display_name": "Python 3 (ipykernel)",
   "language": "python",
   "name": "python3"
  },
  "language_info": {
   "codemirror_mode": {
    "name": "ipython",
    "version": 3
   },
   "file_extension": ".py",
   "mimetype": "text/x-python",
   "name": "python",
   "nbconvert_exporter": "python",
   "pygments_lexer": "ipython3",
   "version": "3.11.4"
  }
 },
 "nbformat": 4,
 "nbformat_minor": 4
}
