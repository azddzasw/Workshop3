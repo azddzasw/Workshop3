{
 "cells": [
  {
   "cell_type": "code",
   "execution_count": 2,
   "id": "c5bc1c52-eadb-4cbf-b5f6-8e5731939b5a",
   "metadata": {
    "tags": []
   },
   "outputs": [
    {
     "name": "stdout",
     "output_type": "stream",
     "text": [
      "result: {'class_name': 'benign', 'prediction': 1}\n"
     ]
    }
   ],
   "source": [
    "import requests\n",
    "\n",
    "# API URL\n",
    "api_url = 'https://16ae-89-30-29-68.ngrok-free.app/predict'\n",
    "\n",
    "# demo-data\n",
    "input_data = {\n",
    "    'radius_mean': 1,\n",
    "    'texture_mean': 2,\n",
    "    'perimeter_mean': 2,\n",
    "    'area_mean':2,\n",
    "    'smoothness_mean':2,\n",
    "}\n",
    "\n",
    "response = requests.get(api_url, params=input_data)\n",
    "\n",
    "if response.status_code == 200:\n",
    "    result = response.json()\n",
    "    prediction = result['prediction']\n",
    "    print('result:', result)\n",
    "else:\n",
    "    print('failed:', response.text)\n"
   ]
  },
  {
   "cell_type": "markdown",
   "id": "dcb5e2b5-54b3-469d-be5f-df578e71d87f",
   "metadata": {
    "tags": []
   },
   "source": [
    "# *Introducing Consensus with Slashing Mechanism*\n"
   ]
  },
  {
   "cell_type": "code",
   "execution_count": 8,
   "id": "c0b2014f-bf79-4a30-be10-8198172e1029",
   "metadata": {},
   "outputs": [],
   "source": [
    "import json\n",
    "\n",
    "# read model info\n",
    "def read_model_info():\n",
    "    with open('model_info.json', 'r') as file:\n",
    "        return json.load(file)\n",
    "\n",
    "# write model info\n",
    "def write_model_info(data):\n",
    "    with open('model_info.json', 'w') as file:\n",
    "        json.dump(data, file, indent=4)\n",
    "\n",
    "# model register\n",
    "def register_model(model_id, deposit):\n",
    "    model_info = read_model_info()\n",
    "    model_info['models'].append({\n",
    "        'id': model_id,\n",
    "        'deposit': deposit,\n",
    "        'accuracy': 0.0,\n",
    "        'weight': 1.0\n",
    "    })\n",
    "    write_model_info(model_info)\n",
    "\n",
    "# 更新模型准确性和权重\n",
    "def update_model_performance(model_id, accuracy):\n",
    "    model_info = read_model_info()\n",
    "    for model in model_info['models']:\n",
    "        if model['id'] == model_id:\n",
    "            model['accuracy'] = accuracy\n",
    "            # 更新权重\n",
    "            model['weight'] = accuracy\n",
    "    write_model_info(model_info)\n",
    "\n",
    "# 实施惩罚\n",
    "def apply_slashing(model_id, penalty):\n",
    "    model_info = read_model_info()\n",
    "    for model in model_info['models']:\n",
    "        if model['id'] == model_id:\n",
    "            model['deposit'] -= penalty\n",
    "    write_model_info(model_info)\n",
    "\n",
    "# 模型预测\n",
    "def predict(model_id, input_data):\n",
    "    # 实现模型预测的逻辑\n",
    "    pass\n",
    "\n",
    "\n",
    "\n",
    "# 模型注册示例\n",
    "register_model('model_1', 1000)\n",
    "register_model('model_2', 1000)\n",
    "\n",
    "# 更新模型准确性示例\n",
    "update_model_performance('model_1', 0.75)\n",
    "update_model_performance('model_2', 0.85)\n",
    "\n",
    "# 惩罚示例\n",
    "apply_slashing('model_1', 50)\n",
    "\n"
   ]
  },
  {
   "cell_type": "code",
   "execution_count": 6,
   "id": "3c6d77fe-1850-4b56-9b7e-32c6cb4f53c2",
   "metadata": {
    "tags": []
   },
   "outputs": [
    {
     "name": "stdout",
     "output_type": "stream",
     "text": [
      "Consensus prediction: True\n"
     ]
    }
   ],
   "source": [
    "# 模型预测\n",
    "def predict(model_id, input_data):\n",
    "    # 实现模型预测的逻辑\n",
    "    # 这里假设预测结果为布尔值\n",
    "    import random\n",
    "    prediction = random.choice([True, False])  # 示例：随机选择一个布尔值作为预测结果\n",
    "    return prediction\n",
    "\n",
    "# consensus\n",
    "def consensus(input_data):\n",
    "    model_info = read_model_info()\n",
    "    predictions = [predict(model['id'], input_data) for model in model_info['models']]\n",
    "    if predictions:\n",
    "        # 计算布尔值列表中出现次数最多的元素\n",
    "        result = max(set(predictions), key=predictions.count)\n",
    "        return result\n",
    "    else:\n",
    "        return None\n",
    "\n",
    "# 共识机制示例\n",
    "input_data = {}  # 传入预测数据\n",
    "result = consensus(input_data)\n",
    "print(\"Consensus prediction:\", result)\n"
   ]
  },
  {
   "cell_type": "code",
   "execution_count": null,
   "id": "9c5a04c9-2dd5-4432-afff-366814b418d4",
   "metadata": {},
   "outputs": [],
   "source": []
  },
  {
   "cell_type": "code",
   "execution_count": null,
   "id": "b55385e3-3735-45eb-9218-d04c46b2097b",
   "metadata": {},
   "outputs": [],
   "source": []
  }
 ],
 "metadata": {
  "kernelspec": {
   "display_name": "Python 3 (ipykernel)",
   "language": "python",
   "name": "python3"
  },
  "language_info": {
   "codemirror_mode": {
    "name": "ipython",
    "version": 3
   },
   "file_extension": ".py",
   "mimetype": "text/x-python",
   "name": "python",
   "nbconvert_exporter": "python",
   "pygments_lexer": "ipython3",
   "version": "3.11.4"
  }
 },
 "nbformat": 4,
 "nbformat_minor": 5
}
